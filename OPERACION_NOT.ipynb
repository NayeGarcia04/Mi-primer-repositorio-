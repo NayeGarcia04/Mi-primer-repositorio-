git rm OPERACION_NOT.ipynb
